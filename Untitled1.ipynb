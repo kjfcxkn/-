{
  "nbformat": 4,
  "nbformat_minor": 0,
  "metadata": {
    "colab": {
      "name": "Untitled1.ipynb",
      "provenance": []
    },
    "kernelspec": {
      "name": "python3",
      "display_name": "Python 3"
    }
  },
  "cells": [
    {
      "cell_type": "markdown",
      "metadata": {
        "id": "LxrNHVgLK4Sk",
        "colab_type": "text"
      },
      "source": [
        "## 1) Laplace's Equation in Sphererical coordinates\n",
        ">$\\begin{align*}\n",
        " u_{rr} +\\frac{2}{r} u_r &+\\frac{1}{r^2}u_{\\phi\\phi} +\\frac{\\cot\\phi}{r^2} u_{\\phi} +\\frac{1}{r^2\\sin^2\\phi}u_{\\theta\\theta} = 0, \\;\\; r < R \\\\ \n",
        " u(R,\\phi,\\theta) &= g(\\phi,\\theta)\\\\ \n",
        "\\end{align*}$\n",
        "\n",
        "### a)\n",
        "\n",
        "attempt separation of variables \n",
        "\n",
        ">$\\displaystyle u(r,\\phi,\\theta) = R(r)\\Phi(\\phi)\\Theta(\\theta)$\n",
        "\n",
        "<br> Equation is changed.\n",
        ">$\\begin{align*}\n",
        " (\\frac{r^2\\sin^2\\phi}{R}\\frac{d^2R}{dr^2} &+\\frac{2rsin^2\\phi}{R}\\frac{dR}{dr}) +(\\frac{\\cos\\phi\\sin\\phi}{\\Phi}\\frac{d\\Phi}{d\\phi} +\\frac{\\sin^2\\phi}{\\Phi}\\frac{d^2\\Phi}{d\\phi^2}) = -(\\frac{1}{\\Theta}\\frac{d^2\\Theta}{d\\theta^2}) = m^2\n",
        "\\end{align*}$\n",
        "\n",
        "so, eigen value equation is\n",
        ">$\\displaystyle \\frac{1}{\\Theta}\\frac{d^2\\Theta}{d\\theta^2} = -m^2$\n",
        "\n",
        "and eigen function is \n",
        ">$\\displaystyle \\Theta(\\theta) = S_{m}\\sin(m\\theta)+C_{m}\\cos(m\\theta) ,  m=-\\infty, \\cdots, \\infty $\n",
        "\n",
        "and then,\n",
        "\n",
        ">$\\displaystyle \\frac{r^2}{R}\\frac{d^2R}{dr^2}+\\frac{2r}{R}\\frac{dR}{dr}+\\frac{1}{\\sin^2\\phi}(\\frac{\\cos\\phi\\sin\\phi}{\\Phi}\\frac{d\\Phi}{d\\phi}+\\frac{\\sin^2\\phi}{\\Phi}\\frac{d^2\\Phi}{d\\phi^2}-m^2)=0 $\n",
        "\n",
        "The R part must be equal to a constant\n",
        "\n",
        ">$\\displaystyle \\frac{r^2}{R}\\frac{d^2R}{dr^2}+\\frac{2r}{R}\\frac{dR}{dr}=l(l+1) $\n",
        ">$\\displaystyle {r^2}\\frac{d^2R}{dr^2}+{2r}\\frac{dR}{dr}=l(l+1)R $\n",
        "\n",
        "This is Euler differential equation. So the solution of form is\n",
        "\n",
        ">$\\displaystyle R=\\sum_{n=0}^\\infty a_{n}r^{n+c} $\n",
        "\n",
        "Then,\n",
        ">$\\begin{align*}\n",
        "r^2\\sum_{n=0}^\\infty (n+c)(n+c-1)a_{n}r^{n+c-2} + 2r\\sum_{n=0}^\\infty (n+c)a_{n}r^{n+c-1} - l(l+1)\\sum_{n=0}^\\infty a_{n}r^{n+c} =0 \n",
        "\\sum_{n=0}^\\infty [(n+c)(n+c+1)-l(l+1)]a_{n}r^{n+c} = 0\n",
        "\\end{align*}$\n",
        "\n",
        "This must hold true for all powers of r. For the r^c term (with n=0),\n",
        "\n",
        "$c(c+1) = l(l+1)$\n",
        "\n",
        "which is true only if $ c=l$ or $c=-l-1$ and all other terms vanish. So $a_{n}=0$ for $n \\neq l, -l-1$. Therefore the solution of the R is \n",
        "\n",
        "$R_{l}(r) = A_{l}r^{l}+B_{l}r^{-l-1}$\n",
        "\n",
        "Latly Let solve equation about $\\Phi(\\phi)$\n",
        "\n",
        ">$\\displaystyle l(l+1)-\\frac{m^2}{sin^2\\phi}+\\frac{\\cos\\phi}{\\sin\\phi} \\frac{1}{\\Phi}\\frac{d\\Phi}{d\\phi}+\\frac{1}{\\Phi}\\frac{d^2\\Phi}{d\\phi^2} $<br>\n",
        ">$\\displaystyle \\Phi''+\\frac{\\cos\\phi}{\\sin\\phi}\\Phi'+[l(l+1)-\\frac{m^2}{\\sin^2\\phi}]\\Phi=0 $\n",
        "\n",
        "which is the associated Legendre differential equation for $x=\\cos\\phi$ and $m=0,1,2,\\cdots,l$ <br>\n",
        "So, solution is\n",
        "\n",
        ">$\\displaystyle u(r,\\phi,\\theta) = \\sum_{l=0}^\\infty\\sum_{m=0}^l (A_lr^l+B_lr^{-l-1})P_l^m(\\cos\\phi)[S_l^m\\sin(m\\theta)+C_l^m\\cos(m\\theta)] $\n",
        "\n",
        "\n",
        "\n",
        "###b) \n",
        "\n",
        "The Possion intergral formula about 3D interior problem is\n",
        "\n",
        ">$\\displaystyle u(r,\\phi,\\theta) = \\frac{1}{4}\\pi R(R^2-r^2)\\int_0^{2\\pi}\\int_0^\\pi\\frac{\\sin\\varphi}{(R^2+r^2-2Rr\\cos\\alpha)^{1.5}}g(\\varphi,\\vartheta)d\\varphi \\, d\\vartheta$ $\n",
        "\n",
        "where,\n",
        "\n",
        "$\\cos\\alpha = \\cos\\phi\\cos\\varphi+\\sin\\phi\\sin\\varphi\\cos(\\vartheta-\\theta)$"
      ]
    },
    {
      "cell_type": "code",
      "metadata": {
        "id": "aHwZM-C9K683",
        "colab_type": "code",
        "colab": {}
      },
      "source": [
        ""
      ],
      "execution_count": 0,
      "outputs": []
    }
  ]
}